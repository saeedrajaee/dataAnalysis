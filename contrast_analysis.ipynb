{
  "cells": [
    {
      "cell_type": "code",
      "execution_count": null,
      "id": "b17edb4b",
      "metadata": {
        "id": "b17edb4b"
      },
      "outputs": [],
      "source": [
        "import os, sys\n",
        "import shutil\n",
        "import os\n",
        "import pandas as pd\n",
        "import numpy as np"
      ]
    },
    {
      "cell_type": "code",
      "execution_count": null,
      "id": "c7ddf233",
      "metadata": {
        "id": "c7ddf233"
      },
      "outputs": [],
      "source": [
        "file_path = r'C:\\Users\\s.rajaei\\Desktop\\Analysis\\Tadakhol.xlsx'"
      ]
    },
    {
      "cell_type": "code",
      "execution_count": null,
      "id": "f43cd81f",
      "metadata": {
        "id": "f43cd81f"
      },
      "outputs": [],
      "source": [
        "df = pd.read_excel(file_path)"
      ]
    },
    {
      "cell_type": "code",
      "execution_count": null,
      "id": "25dc88fc",
      "metadata": {
        "id": "25dc88fc"
      },
      "outputs": [],
      "source": [
        "df_all_rows = []\n",
        "df_all_rows_Year = []\n",
        "for i in range(0, int(33)):\n",
        "    AllContract = 0; FinalContract = 0; in_Progressive = 0; Zero_Progressive = 0; Zero_Plaque = 0; Contract_Delay = 0\n",
        "\n",
        "    Y1393 = 0;Y1394 = 0;Y1395 = 0;Y1396 = 0;Y1397 = 0;Y1398 = 0;Y1399 = 0;Y1400 = 0;Y1401 = 0;Y1402 = 0\n",
        "####################################################\n",
        "    for index, row in df.iterrows():\n",
        "        if row['provinceCode'] == i:\n",
        "            AllContract = AllContract + 1\n",
        "            if row['PreCal_100'] == 0:\n",
        "                FinalContract = FinalContract + 1\n",
        "            elif  row['PreCal_0'] == 0:\n",
        "                Zero_Progressive = Zero_Progressive + 1\n",
        "            elif  row['PreCal_1_99'] == 0 and row['StatCode'] == 1:\n",
        "                in_Progressive = in_Progressive + 1\n",
        "            else:\n",
        "                pass\n",
        "        else:\n",
        "            pass\n",
        "######################Zero_Plaque#######################\n",
        "        if row['provinceCode'] == i and row['plaqueCount'] == 0:\n",
        "            Zero_Plaque = Zero_Plaque + 1\n",
        "        else:\n",
        "            pass\n",
        "######################Contract_Delay#######################\n",
        "        if row['provinceCode'] == i and row['CalDelay'] == 0:\n",
        "            Contract_Delay = Contract_Delay + 1\n",
        "        else:\n",
        "            pass\n",
        "######################Year##############################\n",
        "        if row['provinceCode'] == i:\n",
        "            if row['Year'] == 1393:\n",
        "                Y1393 = Y1393 + 1\n",
        "            elif row['Year'] == 1394:\n",
        "                Y1394 = Y1394 + 1\n",
        "            elif row['Year'] == 1395:\n",
        "                Y1395 = Y1395 + 1\n",
        "            elif row['Year'] == 1396:\n",
        "                Y1396 = Y1396 + 1\n",
        "            elif row['Year'] == 1396:\n",
        "                Y1396 = Y1396 + 1\n",
        "            elif row['Year'] == 1397:\n",
        "                Y1397 = Y1397 + 1\n",
        "            elif row['Year'] == 1398:\n",
        "                Y1398 = Y1398 + 1\n",
        "            elif row['Year'] == 1399:\n",
        "                Y1399 = Y1399 + 1\n",
        "            elif row['Year'] == 1400:\n",
        "                Y1400 = Y1400 + 1\n",
        "            elif row['Year'] == 1401:\n",
        "                Y1401 = Y1401 + 1\n",
        "            elif row['Year'] == 1402:\n",
        "                Y1402 = Y1402 + 1\n",
        "            else:\n",
        "                pass\n",
        "        else:\n",
        "            pass\n",
        "    Data_ = [AllContract,FinalContract,in_Progressive,Zero_Progressive,Zero_Plaque, Contract_Delay]\n",
        "    Data_Year = [Y1393,Y1394,Y1395,Y1396,Y1397,Y1398,Y1399,Y1400,Y1401,Y1402]\n",
        "    DataFrame1 = pd.DataFrame(Data_)\n",
        "    DataFrame2 = pd.DataFrame(Data_Year)\n",
        "    T = DataFrame1.T\n",
        "    T_Year = DataFrame2.T\n",
        "#     pd.concat([series1, series2],axis = 1)\n",
        "    df_all_rows = pd.DataFrame(df_all_rows)\n",
        "    df_all_rows_Year = pd.DataFrame(df_all_rows_Year)\n",
        "    df_all_rows = pd.concat([df_all_rows,T],ignore_index=True)\n",
        "    df_all_rows_Year = pd.concat([df_all_rows_Year,T_Year],ignore_index=True)\n",
        "\n"
      ]
    },
    {
      "cell_type": "code",
      "execution_count": null,
      "id": "6bf70fb4",
      "metadata": {
        "id": "6bf70fb4"
      },
      "outputs": [],
      "source": [
        "df_all_rows.to_excel('Analysis.xlsx')\n",
        "df_all_rows_Year.to_excel('Years.xlsx')"
      ]
    },
    {
      "cell_type": "code",
      "execution_count": null,
      "id": "9840e5f8",
      "metadata": {
        "id": "9840e5f8"
      },
      "outputs": [],
      "source": [
        "file_path = r'C:\\Users\\s.rajaei\\Desktop\\Analysis\\Cadaster.xlsx'\n",
        "df = pd.read_excel(file_path)"
      ]
    },
    {
      "cell_type": "code",
      "execution_count": null,
      "id": "7ba8a479",
      "metadata": {
        "id": "7ba8a479"
      },
      "outputs": [],
      "source": [
        "df_all_rows = []\n",
        "df_all_rows_Year = []\n",
        "for i in range(0, int(33)):\n",
        "    AllContract = 0; FinalContract = 0; in_Progressive = 0; Zero_Progressive = 0; Contract_Delay = 0\n",
        "\n",
        "####################################################\n",
        "    for index, row in df.iterrows():\n",
        "        if row['provinceCode'] == i:\n",
        "            AllContract = AllContract + 1\n",
        "            if row['PreCal_100'] == 0:\n",
        "                FinalContract = FinalContract + 1\n",
        "            elif  row['PreCal_0'] == 0:\n",
        "                Zero_Progressive = Zero_Progressive + 1\n",
        "            elif  row['PreCal_1_99'] == 0 and row['StatCode'] == 1:\n",
        "                in_Progressive = in_Progressive + 1\n",
        "            else:\n",
        "                pass\n",
        "        else:\n",
        "            pass\n",
        "\n",
        "######################Contract_Delay#######################\n",
        "        if row['provinceCode'] == i and row['CalDelay'] == 0:\n",
        "            Contract_Delay = Contract_Delay + 1\n",
        "        else:\n",
        "            pass\n",
        "\n",
        "    Data_ = [AllContract,FinalContract,in_Progressive,Zero_Progressive, Contract_Delay]\n",
        "    DataFrame1 = pd.DataFrame(Data_)\n",
        "    T = DataFrame1.T\n",
        "#     pd.concat([series1, series2],axis = 1)\n",
        "    df_all_rows = pd.DataFrame(df_all_rows)\n",
        "    df_all_rows = pd.concat([df_all_rows,T],ignore_index=True)"
      ]
    },
    {
      "cell_type": "code",
      "execution_count": null,
      "id": "abac0ff4",
      "metadata": {
        "id": "abac0ff4"
      },
      "outputs": [],
      "source": [
        "df_all_rows.to_excel('Analysis_Cadaster.xlsx')"
      ]
    },
    {
      "cell_type": "code",
      "execution_count": null,
      "id": "4d35387c",
      "metadata": {
        "id": "4d35387c"
      },
      "outputs": [],
      "source": []
    }
  ],
  "metadata": {
    "kernelspec": {
      "display_name": "Python 3 (ipykernel)",
      "language": "python",
      "name": "python3"
    },
    "language_info": {
      "codemirror_mode": {
        "name": "ipython",
        "version": 3
      },
      "file_extension": ".py",
      "mimetype": "text/x-python",
      "name": "python",
      "nbconvert_exporter": "python",
      "pygments_lexer": "ipython3",
      "version": "3.10.9"
    },
    "colab": {
      "provenance": []
    }
  },
  "nbformat": 4,
  "nbformat_minor": 5
}